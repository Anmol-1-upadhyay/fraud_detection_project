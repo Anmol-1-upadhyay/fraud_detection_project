{
 "cells": [
  {
   "cell_type": "code",
   "execution_count": 1,
   "id": "92c4b30b-b6cc-436a-b74a-07b44c67ef42",
   "metadata": {},
   "outputs": [],
   "source": [
    "import pandas as pd\n",
    "import numpy as np"
   ]
  },
  {
   "cell_type": "code",
   "execution_count": 2,
   "id": "8087f2dd-6fac-4af3-9b9e-662da6c943d0",
   "metadata": {},
   "outputs": [],
   "source": [
    "data = pd.read_csv('Fraud.csv')"
   ]
  },
  {
   "cell_type": "code",
   "execution_count": 3,
   "id": "1d1a1b74-7edc-4931-a176-b985e45957a7",
   "metadata": {},
   "outputs": [
    {
     "data": {
      "text/html": [
       "<div>\n",
       "<style scoped>\n",
       "    .dataframe tbody tr th:only-of-type {\n",
       "        vertical-align: middle;\n",
       "    }\n",
       "\n",
       "    .dataframe tbody tr th {\n",
       "        vertical-align: top;\n",
       "    }\n",
       "\n",
       "    .dataframe thead th {\n",
       "        text-align: right;\n",
       "    }\n",
       "</style>\n",
       "<table border=\"1\" class=\"dataframe\">\n",
       "  <thead>\n",
       "    <tr style=\"text-align: right;\">\n",
       "      <th></th>\n",
       "      <th>step</th>\n",
       "      <th>type</th>\n",
       "      <th>amount</th>\n",
       "      <th>nameOrig</th>\n",
       "      <th>oldbalanceOrg</th>\n",
       "      <th>newbalanceOrig</th>\n",
       "      <th>nameDest</th>\n",
       "      <th>oldbalanceDest</th>\n",
       "      <th>newbalanceDest</th>\n",
       "      <th>isFraud</th>\n",
       "      <th>isFlaggedFraud</th>\n",
       "    </tr>\n",
       "  </thead>\n",
       "  <tbody>\n",
       "    <tr>\n",
       "      <th>0</th>\n",
       "      <td>1</td>\n",
       "      <td>PAYMENT</td>\n",
       "      <td>9839.64</td>\n",
       "      <td>C1231006815</td>\n",
       "      <td>170136.0</td>\n",
       "      <td>160296.36</td>\n",
       "      <td>M1979787155</td>\n",
       "      <td>0.0</td>\n",
       "      <td>0.0</td>\n",
       "      <td>0</td>\n",
       "      <td>0</td>\n",
       "    </tr>\n",
       "    <tr>\n",
       "      <th>1</th>\n",
       "      <td>1</td>\n",
       "      <td>PAYMENT</td>\n",
       "      <td>1864.28</td>\n",
       "      <td>C1666544295</td>\n",
       "      <td>21249.0</td>\n",
       "      <td>19384.72</td>\n",
       "      <td>M2044282225</td>\n",
       "      <td>0.0</td>\n",
       "      <td>0.0</td>\n",
       "      <td>0</td>\n",
       "      <td>0</td>\n",
       "    </tr>\n",
       "    <tr>\n",
       "      <th>2</th>\n",
       "      <td>1</td>\n",
       "      <td>TRANSFER</td>\n",
       "      <td>181.00</td>\n",
       "      <td>C1305486145</td>\n",
       "      <td>181.0</td>\n",
       "      <td>0.00</td>\n",
       "      <td>C553264065</td>\n",
       "      <td>0.0</td>\n",
       "      <td>0.0</td>\n",
       "      <td>1</td>\n",
       "      <td>0</td>\n",
       "    </tr>\n",
       "    <tr>\n",
       "      <th>3</th>\n",
       "      <td>1</td>\n",
       "      <td>CASH_OUT</td>\n",
       "      <td>181.00</td>\n",
       "      <td>C840083671</td>\n",
       "      <td>181.0</td>\n",
       "      <td>0.00</td>\n",
       "      <td>C38997010</td>\n",
       "      <td>21182.0</td>\n",
       "      <td>0.0</td>\n",
       "      <td>1</td>\n",
       "      <td>0</td>\n",
       "    </tr>\n",
       "    <tr>\n",
       "      <th>4</th>\n",
       "      <td>1</td>\n",
       "      <td>PAYMENT</td>\n",
       "      <td>11668.14</td>\n",
       "      <td>C2048537720</td>\n",
       "      <td>41554.0</td>\n",
       "      <td>29885.86</td>\n",
       "      <td>M1230701703</td>\n",
       "      <td>0.0</td>\n",
       "      <td>0.0</td>\n",
       "      <td>0</td>\n",
       "      <td>0</td>\n",
       "    </tr>\n",
       "  </tbody>\n",
       "</table>\n",
       "</div>"
      ],
      "text/plain": [
       "   step      type    amount     nameOrig  oldbalanceOrg  newbalanceOrig  \\\n",
       "0     1   PAYMENT   9839.64  C1231006815       170136.0       160296.36   \n",
       "1     1   PAYMENT   1864.28  C1666544295        21249.0        19384.72   \n",
       "2     1  TRANSFER    181.00  C1305486145          181.0            0.00   \n",
       "3     1  CASH_OUT    181.00   C840083671          181.0            0.00   \n",
       "4     1   PAYMENT  11668.14  C2048537720        41554.0        29885.86   \n",
       "\n",
       "      nameDest  oldbalanceDest  newbalanceDest  isFraud  isFlaggedFraud  \n",
       "0  M1979787155             0.0             0.0        0               0  \n",
       "1  M2044282225             0.0             0.0        0               0  \n",
       "2   C553264065             0.0             0.0        1               0  \n",
       "3    C38997010         21182.0             0.0        1               0  \n",
       "4  M1230701703             0.0             0.0        0               0  "
      ]
     },
     "execution_count": 3,
     "metadata": {},
     "output_type": "execute_result"
    }
   ],
   "source": [
    "data.head()"
   ]
  },
  {
   "cell_type": "code",
   "execution_count": 4,
   "id": "bdc9ef0c-578f-45d8-b01f-ee927885ec3b",
   "metadata": {},
   "outputs": [
    {
     "data": {
      "text/html": [
       "<div>\n",
       "<style scoped>\n",
       "    .dataframe tbody tr th:only-of-type {\n",
       "        vertical-align: middle;\n",
       "    }\n",
       "\n",
       "    .dataframe tbody tr th {\n",
       "        vertical-align: top;\n",
       "    }\n",
       "\n",
       "    .dataframe thead th {\n",
       "        text-align: right;\n",
       "    }\n",
       "</style>\n",
       "<table border=\"1\" class=\"dataframe\">\n",
       "  <thead>\n",
       "    <tr style=\"text-align: right;\">\n",
       "      <th></th>\n",
       "      <th>step</th>\n",
       "      <th>type</th>\n",
       "      <th>amount</th>\n",
       "      <th>nameOrig</th>\n",
       "      <th>oldbalanceOrg</th>\n",
       "      <th>newbalanceOrig</th>\n",
       "      <th>nameDest</th>\n",
       "      <th>oldbalanceDest</th>\n",
       "      <th>newbalanceDest</th>\n",
       "      <th>isFraud</th>\n",
       "      <th>isFlaggedFraud</th>\n",
       "    </tr>\n",
       "  </thead>\n",
       "  <tbody>\n",
       "    <tr>\n",
       "      <th>6362615</th>\n",
       "      <td>743</td>\n",
       "      <td>CASH_OUT</td>\n",
       "      <td>339682.13</td>\n",
       "      <td>C786484425</td>\n",
       "      <td>339682.13</td>\n",
       "      <td>0.0</td>\n",
       "      <td>C776919290</td>\n",
       "      <td>0.00</td>\n",
       "      <td>339682.13</td>\n",
       "      <td>1</td>\n",
       "      <td>0</td>\n",
       "    </tr>\n",
       "    <tr>\n",
       "      <th>6362616</th>\n",
       "      <td>743</td>\n",
       "      <td>TRANSFER</td>\n",
       "      <td>6311409.28</td>\n",
       "      <td>C1529008245</td>\n",
       "      <td>6311409.28</td>\n",
       "      <td>0.0</td>\n",
       "      <td>C1881841831</td>\n",
       "      <td>0.00</td>\n",
       "      <td>0.00</td>\n",
       "      <td>1</td>\n",
       "      <td>0</td>\n",
       "    </tr>\n",
       "    <tr>\n",
       "      <th>6362617</th>\n",
       "      <td>743</td>\n",
       "      <td>CASH_OUT</td>\n",
       "      <td>6311409.28</td>\n",
       "      <td>C1162922333</td>\n",
       "      <td>6311409.28</td>\n",
       "      <td>0.0</td>\n",
       "      <td>C1365125890</td>\n",
       "      <td>68488.84</td>\n",
       "      <td>6379898.11</td>\n",
       "      <td>1</td>\n",
       "      <td>0</td>\n",
       "    </tr>\n",
       "    <tr>\n",
       "      <th>6362618</th>\n",
       "      <td>743</td>\n",
       "      <td>TRANSFER</td>\n",
       "      <td>850002.52</td>\n",
       "      <td>C1685995037</td>\n",
       "      <td>850002.52</td>\n",
       "      <td>0.0</td>\n",
       "      <td>C2080388513</td>\n",
       "      <td>0.00</td>\n",
       "      <td>0.00</td>\n",
       "      <td>1</td>\n",
       "      <td>0</td>\n",
       "    </tr>\n",
       "    <tr>\n",
       "      <th>6362619</th>\n",
       "      <td>743</td>\n",
       "      <td>CASH_OUT</td>\n",
       "      <td>850002.52</td>\n",
       "      <td>C1280323807</td>\n",
       "      <td>850002.52</td>\n",
       "      <td>0.0</td>\n",
       "      <td>C873221189</td>\n",
       "      <td>6510099.11</td>\n",
       "      <td>7360101.63</td>\n",
       "      <td>1</td>\n",
       "      <td>0</td>\n",
       "    </tr>\n",
       "  </tbody>\n",
       "</table>\n",
       "</div>"
      ],
      "text/plain": [
       "         step      type      amount     nameOrig  oldbalanceOrg  \\\n",
       "6362615   743  CASH_OUT   339682.13   C786484425      339682.13   \n",
       "6362616   743  TRANSFER  6311409.28  C1529008245     6311409.28   \n",
       "6362617   743  CASH_OUT  6311409.28  C1162922333     6311409.28   \n",
       "6362618   743  TRANSFER   850002.52  C1685995037      850002.52   \n",
       "6362619   743  CASH_OUT   850002.52  C1280323807      850002.52   \n",
       "\n",
       "         newbalanceOrig     nameDest  oldbalanceDest  newbalanceDest  isFraud  \\\n",
       "6362615             0.0   C776919290            0.00       339682.13        1   \n",
       "6362616             0.0  C1881841831            0.00            0.00        1   \n",
       "6362617             0.0  C1365125890        68488.84      6379898.11        1   \n",
       "6362618             0.0  C2080388513            0.00            0.00        1   \n",
       "6362619             0.0   C873221189      6510099.11      7360101.63        1   \n",
       "\n",
       "         isFlaggedFraud  \n",
       "6362615               0  \n",
       "6362616               0  \n",
       "6362617               0  \n",
       "6362618               0  \n",
       "6362619               0  "
      ]
     },
     "execution_count": 4,
     "metadata": {},
     "output_type": "execute_result"
    }
   ],
   "source": [
    "data.tail()"
   ]
  },
  {
   "cell_type": "code",
   "execution_count": 5,
   "id": "4c209500-d5a7-4ccd-b0ef-e28509a523a8",
   "metadata": {},
   "outputs": [
    {
     "name": "stdout",
     "output_type": "stream",
     "text": [
      "<class 'pandas.core.frame.DataFrame'>\n",
      "RangeIndex: 6362620 entries, 0 to 6362619\n",
      "Data columns (total 11 columns):\n",
      " #   Column          Dtype  \n",
      "---  ------          -----  \n",
      " 0   step            int64  \n",
      " 1   type            object \n",
      " 2   amount          float64\n",
      " 3   nameOrig        object \n",
      " 4   oldbalanceOrg   float64\n",
      " 5   newbalanceOrig  float64\n",
      " 6   nameDest        object \n",
      " 7   oldbalanceDest  float64\n",
      " 8   newbalanceDest  float64\n",
      " 9   isFraud         int64  \n",
      " 10  isFlaggedFraud  int64  \n",
      "dtypes: float64(5), int64(3), object(3)\n",
      "memory usage: 534.0+ MB\n"
     ]
    }
   ],
   "source": [
    "data.info()"
   ]
  },
  {
   "cell_type": "code",
   "execution_count": 6,
   "id": "a5ad5557-1bfe-489d-9ab9-256c00088221",
   "metadata": {},
   "outputs": [
    {
     "data": {
      "text/plain": [
       "(6362620, 11)"
      ]
     },
     "execution_count": 6,
     "metadata": {},
     "output_type": "execute_result"
    }
   ],
   "source": [
    "data.shape"
   ]
  },
  {
   "cell_type": "code",
   "execution_count": 7,
   "id": "34de5cef-896b-4cdd-b980-1dab0e4f78db",
   "metadata": {},
   "outputs": [
    {
     "data": {
      "text/plain": [
       "step              0\n",
       "type              0\n",
       "amount            0\n",
       "nameOrig          0\n",
       "oldbalanceOrg     0\n",
       "newbalanceOrig    0\n",
       "nameDest          0\n",
       "oldbalanceDest    0\n",
       "newbalanceDest    0\n",
       "isFraud           0\n",
       "isFlaggedFraud    0\n",
       "dtype: int64"
      ]
     },
     "execution_count": 7,
     "metadata": {},
     "output_type": "execute_result"
    }
   ],
   "source": [
    "data.isna().sum() #check dat is clean or not"
   ]
  },
  {
   "cell_type": "code",
   "execution_count": 8,
   "id": "0cd2648a-c1d5-4c30-a924-3fd8f69eb0f2",
   "metadata": {},
   "outputs": [
    {
     "data": {
      "text/plain": [
       "isFraud\n",
       "0    6354407\n",
       "1       8213\n",
       "Name: count, dtype: int64"
      ]
     },
     "execution_count": 8,
     "metadata": {},
     "output_type": "execute_result"
    }
   ],
   "source": [
    "data.isFraud.value_counts()"
   ]
  },
  {
   "cell_type": "code",
   "execution_count": 9,
   "id": "22531937-ea16-4114-93d3-4949f81a9898",
   "metadata": {},
   "outputs": [
    {
     "data": {
      "text/plain": [
       "isFlaggedFraud\n",
       "0    6362604\n",
       "1         16\n",
       "Name: count, dtype: int64"
      ]
     },
     "execution_count": 9,
     "metadata": {},
     "output_type": "execute_result"
    }
   ],
   "source": [
    "data.isFlaggedFraud.value_counts()"
   ]
  },
  {
   "cell_type": "code",
   "execution_count": 10,
   "id": "a6e614ff-e272-41f3-b990-c947286650a7",
   "metadata": {},
   "outputs": [],
   "source": [
    "data = data.drop(['nameOrig','nameDest'],axis=1) #data reprocessing"
   ]
  },
  {
   "cell_type": "code",
   "execution_count": 11,
   "id": "3c178fb3-b4ed-4141-9e2d-0b27a7bd2a90",
   "metadata": {},
   "outputs": [],
   "source": [
    "#import Label encoder\n",
    "from sklearn import preprocessing \n",
    "\n",
    "#Label_encoder object knows how to understand word Labels.\n",
    "label_encoder = preprocessing.LabelEncoder()\n",
    "\n",
    "data['type']= label_encoder.fit_transform(data['type'])\n"
   ]
  },
  {
   "cell_type": "code",
   "execution_count": 12,
   "id": "c03cce63-b259-4fbe-ad50-5ea946cbcd7c",
   "metadata": {},
   "outputs": [],
   "source": [
    "X, y = data.loc[:, data.columns != 'isFraud'], data['isFraud']"
   ]
  },
  {
   "cell_type": "code",
   "execution_count": 15,
   "id": "86dfbea7-57fd-4c3f-b844-a27122b3d0c6",
   "metadata": {},
   "outputs": [],
   "source": [
    "from sklearn.model_selection import train_test_split\n",
    "X_train, X_test,y_train, y_test = train_test_split(X,y,test_size=0.40,random_state=42)\n"
   ]
  },
  {
   "cell_type": "code",
   "execution_count": 18,
   "id": "ede40986-b242-4957-b41e-d8a6e33b0fed",
   "metadata": {},
   "outputs": [],
   "source": [
    "from sklearn.preprocessing import StandardScaler\n",
    "sc = StandardScaler()\n",
    "X_train = sc.fit_transform(X_train)\n",
    "X_test = sc.transform(X_test)"
   ]
  },
  {
   "cell_type": "code",
   "execution_count": 21,
   "id": "77a8f5f8-a6d9-4e8e-a29c-ab64a8293558",
   "metadata": {},
   "outputs": [
    {
     "name": "stdout",
     "output_type": "stream",
     "text": [
      "Accuracy: 0.9955882953877491\n"
     ]
    }
   ],
   "source": [
    "#Import Gaussian Naive Bayes model\n",
    "from sklearn.naive_bayes import GaussianNB\n",
    "from sklearn import metrics #Import for accuracy calculations\n",
    "\n",
    "#create a gaussian Classifier\n",
    "gnb = GaussianNB()\n",
    "\n",
    "#Train the model using the training sets\n",
    "gnb.fit(X_train, y_train)\n",
    "\n",
    "#Predict the response for test dataset\n",
    "y_pred = gnb.predict(X_test)\n",
    "print(\"Accuracy:\",metrics.accuracy_score(y_test, y_pred))"
   ]
  },
  {
   "cell_type": "code",
   "execution_count": 25,
   "id": "a289180d-6883-4d4e-9070-8da96ac49ece",
   "metadata": {},
   "outputs": [
    {
     "name": "stdout",
     "output_type": "stream",
     "text": [
      "Accuracy :  0.9991882274911907\n"
     ]
    }
   ],
   "source": [
    "from sklearn.linear_model import LogisticRegression \n",
    "classifier = LogisticRegression(random_state = 0)\n",
    "classifier.fit(X_train, y_train)\n",
    "y_pred = classifier.predict(X_test)\n",
    "print (\"Accuracy : \", metrics.accuracy_score(y_test, y_pred))"
   ]
  },
  {
   "cell_type": "code",
   "execution_count": 27,
   "id": "dd9ba0be-94ae-4d58-87f0-ac3dcf345964",
   "metadata": {},
   "outputs": [],
   "source": [
    "# Handling missing values (assuming there are missing values)\n",
    "data = data.dropna()\n",
    "\n",
    "# Handling outliers (assuming 'amount' is a feature)\n",
    "Q1 = data['amount'].quantile(0.25)\n",
    "Q3 = data['amount'].quantile(0.75)\n",
    "IQR = Q3 - Q1\n",
    "data = data[~((data['amount'] < (Q1 - 1.5 * IQR)) | (data['amount'] > (Q3 + 1.5 * IQR)))]"
   ]
  },
  {
   "cell_type": "code",
   "execution_count": 28,
   "id": "1890e266-64a7-4b3c-a73a-66a5f3b3e4be",
   "metadata": {},
   "outputs": [
    {
     "name": "stdout",
     "output_type": "stream",
     "text": [
      "Feature Importance:\n",
      "[('newbalanceOrig', 34.134583340549874), ('oldbalanceOrg', 30.772245796910976), ('newbalanceDest', 12.390881826838491), ('oldbalanceDest', 11.460932762045095), ('isFlaggedFraud', 6.314501142905162), ('amount', 0.8620503867913251), ('step', 0.7529076952464114), ('type', 0.1432156940681354)]\n"
     ]
    }
   ],
   "source": [
    "# For Logistic Regression\n",
    "feature_importance = abs(classifier.coef_[0])\n",
    "feature_names = X.columns\n",
    "feature_importance_dict = dict(zip(feature_names, feature_importance))\n",
    "sorted_features = sorted(feature_importance_dict.items(), key=lambda x: x[1], reverse=True)\n",
    "print(\"Feature Importance:\")\n",
    "print(sorted_features)\n"
   ]
  },
  {
   "cell_type": "code",
   "execution_count": 29,
   "id": "179fff35-3362-44c9-92ee-16c35b81ad7f",
   "metadata": {},
   "outputs": [
    {
     "name": "stdout",
     "output_type": "stream",
     "text": [
      "Confusion Matrix for Gaussian Naive Bayes:\n",
      "[[2533468    8314]\n",
      " [   2914     352]]\n",
      "\n",
      "Classification Report for Gaussian Naive Bayes:\n",
      "              precision    recall  f1-score   support\n",
      "\n",
      "           0       1.00      1.00      1.00   2541782\n",
      "           1       0.04      0.11      0.06      3266\n",
      "\n",
      "    accuracy                           1.00   2545048\n",
      "   macro avg       0.52      0.55      0.53   2545048\n",
      "weighted avg       1.00      1.00      1.00   2545048\n",
      "\n",
      "Confusion Matrix for Logistic Regression:\n",
      "[[2541639     143]\n",
      " [   1923    1343]]\n",
      "\n",
      "Classification Report for Logistic Regression:\n",
      "              precision    recall  f1-score   support\n",
      "\n",
      "           0       1.00      1.00      1.00   2541782\n",
      "           1       0.90      0.41      0.57      3266\n",
      "\n",
      "    accuracy                           1.00   2545048\n",
      "   macro avg       0.95      0.71      0.78   2545048\n",
      "weighted avg       1.00      1.00      1.00   2545048\n",
      "\n"
     ]
    }
   ],
   "source": [
    "from sklearn.metrics import confusion_matrix, classification_report\n",
    "\n",
    "# For Gaussian Naive Bayes\n",
    "print(\"Confusion Matrix for Gaussian Naive Bayes:\")\n",
    "print(confusion_matrix(y_test, gnb.predict(X_test)))\n",
    "print(\"\\nClassification Report for Gaussian Naive Bayes:\")\n",
    "print(classification_report(y_test, gnb.predict(X_test)))\n",
    "\n",
    "# For Logistic Regression\n",
    "print(\"Confusion Matrix for Logistic Regression:\")\n",
    "print(confusion_matrix(y_test, classifier.predict(X_test)))\n",
    "print(\"\\nClassification Report for Logistic Regression:\")\n",
    "print(classification_report(y_test, classifier.predict(X_test)))\n"
   ]
  },
  {
   "cell_type": "code",
   "execution_count": 31,
   "id": "993d32b3-6f05-4d34-941e-d1fae87f76e4",
   "metadata": {},
   "outputs": [],
   "source": [
    "#2. Describe your fraud detection model in elaboration.\n",
    "\n",
    "# Gaussian Naive Bayes Model:\n",
    "# The Gaussian Naive Bayes model is a probabilistic classification algorithm based on Bayes' theorem. \n",
    "# It assumes that features are conditionally independent given the class label, which makes it particularly suitable for datasets with a large number of features. \n",
    "# In the context of fraud detection, where the presence or absence of certain transaction features may influence the likelihood of fraud, the independence assumption\n",
    "# can simplify the modeling process. This model is well-suited for situations where data is not too complex and there is a need for a fast and interpretable algorithm.\n",
    "\n",
    "# Logistic Regression Model:\n",
    "# Logistic Regression is a widely used binary classification algorithm that models the probability of an event occurring as a logistic function.\n",
    "# It is well-suited for problems with a binary outcome, making it suitable for fraud detection where the goal is to classify transactions as either fraudulent or non-fraudulent.\n",
    "# Logistic Regression provides interpretable outputs that indicate the contribution of each feature to the likelihood of fraud.\n",
    "# It is robust, handles linear relationships well, and is less prone to overfitting, making it a valuable tool for fraud detection in financial transactions."
   ]
  },
  {
   "cell_type": "code",
   "execution_count": 33,
   "id": "99a8b488-5575-4100-92ed-4a37739d6ea0",
   "metadata": {},
   "outputs": [],
   "source": [
    "#3. How did you select variables to be included in the model?\n",
    "\n",
    "#The features (X) are defined as all columns in the DataFrame except the target variable ('isFraud').\n",
    "#The target variable (y) is set to 'isFraud'. This step is standard when preparing data for machine learning.\n",
    "#The data is split into training and testing sets using the train_test_split function."
   ]
  },
  {
   "cell_type": "code",
   "execution_count": 35,
   "id": "a71d0aba-c000-4387-9699-98ca5ac9fa44",
   "metadata": {},
   "outputs": [
    {
     "name": "stdout",
     "output_type": "stream",
     "text": [
      "Gaussian Naive Bayes Model Performance:\n",
      "Accuracy: 0.9955882953877491\n",
      "\n",
      "Confusion Matrix:\n",
      "[[2533468    8314]\n",
      " [   2914     352]]\n",
      "\n",
      "Classification Report:\n",
      "              precision    recall  f1-score   support\n",
      "\n",
      "           0       1.00      1.00      1.00   2541782\n",
      "           1       0.04      0.11      0.06      3266\n",
      "\n",
      "    accuracy                           1.00   2545048\n",
      "   macro avg       0.52      0.55      0.53   2545048\n",
      "weighted avg       1.00      1.00      1.00   2545048\n",
      "\n",
      "\n",
      "Logistic Regression Model Performance:\n",
      "Accuracy: 0.9991882274911907\n",
      "\n",
      "Confusion Matrix:\n",
      "[[2541639     143]\n",
      " [   1923    1343]]\n",
      "\n",
      "Classification Report:\n",
      "              precision    recall  f1-score   support\n",
      "\n",
      "           0       1.00      1.00      1.00   2541782\n",
      "           1       0.90      0.41      0.57      3266\n",
      "\n",
      "    accuracy                           1.00   2545048\n",
      "   macro avg       0.95      0.71      0.78   2545048\n",
      "weighted avg       1.00      1.00      1.00   2545048\n",
      "\n"
     ]
    }
   ],
   "source": [
    "#4. Demonstrate the performance of the model by using best set of tools\n",
    "\n",
    "# Importing libraries\n",
    "from sklearn.metrics import accuracy_score, confusion_matrix, classification_report\n",
    "\n",
    "# ... ( existing code for model training and scaling)\n",
    "\n",
    "# Gaussian Naive Bayes Model\n",
    "gnb = GaussianNB()\n",
    "gnb.fit(X_train, y_train)\n",
    "y_pred_gnb = gnb.predict(X_test)\n",
    "\n",
    "# Evaluate Gaussian Naive Bayes model\n",
    "accuracy_gnb = accuracy_score(y_test, y_pred_gnb)\n",
    "conf_matrix_gnb = confusion_matrix(y_test, y_pred_gnb)\n",
    "class_report_gnb = classification_report(y_test, y_pred_gnb)\n",
    "\n",
    "print(\"Gaussian Naive Bayes Model Performance:\")\n",
    "print(\"Accuracy:\", accuracy_gnb)\n",
    "print(\"\\nConfusion Matrix:\")\n",
    "print(conf_matrix_gnb)\n",
    "print(\"\\nClassification Report:\")\n",
    "print(class_report_gnb)\n",
    "\n",
    "# Logistic Regression Model\n",
    "classifier = LogisticRegression(random_state=0)\n",
    "classifier.fit(X_train, y_train)\n",
    "y_pred_logreg = classifier.predict(X_test)\n",
    "\n",
    "# Evaluate Logistic Regression model\n",
    "accuracy_logreg = accuracy_score(y_test, y_pred_logreg)\n",
    "conf_matrix_logreg = confusion_matrix(y_test, y_pred_logreg)\n",
    "class_report_logreg = classification_report(y_test, y_pred_logreg)\n",
    "\n",
    "print(\"\\nLogistic Regression Model Performance:\")\n",
    "print(\"Accuracy:\", accuracy_logreg)\n",
    "print(\"\\nConfusion Matrix:\")\n",
    "print(conf_matrix_logreg)\n",
    "print(\"\\nClassification Report:\")\n",
    "print(class_report_logreg)"
   ]
  },
  {
   "cell_type": "code",
   "execution_count": 40,
   "id": "38ba4b7d-0bb8-4a8a-8e18-947569ed262d",
   "metadata": {},
   "outputs": [],
   "source": [
    "#5. What are the key factors that predict fraudulent customer? \n",
    "\n",
    "#Interpretation of key factors should consider the nature of the features. For example, if 'amount' is an important factor, a higher amount might indicate a higher risk of fraud. \n",
    "#Similarly, if 'type' is a crucial factor, certain transaction types might be more associated with fraud.\n",
    "\n",
    "#a. Logistic Regression Model:\n",
    "#Logistic Regression provides coefficients for each feature, indicating the log-odds of the target variable (fraud) based on changes in the corresponding feature.\n",
    "#Positive coefficients suggest an increase in the likelihood of fraud, while negative coefficients suggest a decrease.\n",
    "#The larger the absolute value of the coefficient, the more impactful the feature is in predicting fraud.\n",
    "\n",
    "#b. Gaussian Naive Bayes Model:\n",
    "#Gaussian Naive Bayes does not provide direct feature importance, but we can still analyze the distribution and characteristics of features to understand their impact.\n",
    "#Look for features with notable differences in distribution between fraudulent and non-fraudulent transactions.\n"
   ]
  },
  {
   "cell_type": "code",
   "execution_count": 37,
   "id": "98a937c5-b7f2-4cda-9858-7d2489135a4d",
   "metadata": {},
   "outputs": [],
   "source": [
    "#6. Do these factors make sense? If yes, How? If not, How not? \n",
    "\n",
    "#Yes these factors make sense to a certain extent:\n",
    "#Amount: A positive coefficient for 'amount' may suggest that larger transaction amounts are more likely to be associated with fraud, which aligns\n",
    "#with the common understanding that fraudulent transactions often involve higher sums.\n",
    "\n",
    "#Transaction Type ('type'): If 'type' is a significant factor, different transaction types may have varying associations with fraud. \n",
    "#For example, certain types like 'TRANSFER' or 'CASH_OUT' might be more indicative of fraud."
   ]
  },
  {
   "cell_type": "code",
   "execution_count": 38,
   "id": "aa84f8bd-1cfd-475f-8198-dbb4380f9076",
   "metadata": {},
   "outputs": [],
   "source": [
    "#7. What kind of prevention should be adopted while company update its infrastructure?\n",
    "\n",
    "#Securing the data handling process:\n",
    "#data protection by adopting end-to-end encryption for financial transactions and sensitive customer information\n",
    "\n",
    "#continuous/real time monitoring:\n",
    "#Enhance real-time monitoring of user activities and transactions to quickly detect anomalies or unusual patterns that may indicate fraudulent behavior.\n",
    "\n",
    "#ML based fraud detection models:\n",
    "#Use machine learning models for fraud detection and continuously updating and refining them as the infrastructure evolves.\n",
    "#Incorporate insights gained from model interpretation to improve accuracy.\n",
    "\n",
    "#Setting up dynamic limits: \n",
    "#Implement adaptive transaction monitoring with dynamic methods, adjusting limits based on historical data and emerging fraud patterns.\n",
    "\n",
    "#last but not the least:\n",
    "#By creating awareness among employees and customers."
   ]
  },
  {
   "cell_type": "code",
   "execution_count": 39,
   "id": "3254b4b8-b3c6-427e-9ae8-0ad870a44ae1",
   "metadata": {},
   "outputs": [],
   "source": [
    "#8. Assuming these actions have been implemented, how would you determine if they work?\n",
    "\n",
    "#Performances checks:\n",
    "#Accuracy and Precision: check for the accuracy of the fraud detection models, ensuring that they accurately classify transactions.\n",
    "#Evaluate precision, which measures the proportion of predicted fraud cases that are actually fraudulent.\n",
    "#False Positive Rate: Assess the false positive rate to minimize the number of legitimate transactions incorrectly flagged as fraud.\n",
    "\n",
    "#Fraud Incidents and user experiences: Track the number of actual fraud incidents over time. A reduction in the frequency of fraud incidents may indicate the\n",
    "# effectiveness of preventive measures and also take feedbacks from users\n",
    "\n",
    "#Results analysis: Review the results of security audits and penetration tests. Successful tests indicate that the infrastructure can withstand simulated attacks.\n",
    "\n",
    "#Response Time: Assess the response time and effectiveness of the incident response plan during actual security incidents.\n",
    "# A well-executed response minimizes the impact of security breaches.\n",
    "\n",
    "#Adaptability of the model: Assess the system's ability to adapt to new and emerging fraud patterns. Regularly update the fraud detection models to address evolving threats."
   ]
  },
  {
   "cell_type": "code",
   "execution_count": null,
   "id": "c5ae3c2d-fe53-4e1e-972c-53e1a3923b72",
   "metadata": {},
   "outputs": [],
   "source": []
  }
 ],
 "metadata": {
  "kernelspec": {
   "display_name": "Python 3 (ipykernel)",
   "language": "python",
   "name": "python3"
  },
  "language_info": {
   "codemirror_mode": {
    "name": "ipython",
    "version": 3
   },
   "file_extension": ".py",
   "mimetype": "text/x-python",
   "name": "python",
   "nbconvert_exporter": "python",
   "pygments_lexer": "ipython3",
   "version": "3.11.7"
  }
 },
 "nbformat": 4,
 "nbformat_minor": 5
}
